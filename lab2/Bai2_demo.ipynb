{
 "cells": [
  {
   "cell_type": "code",
   "execution_count": null,
   "id": "ded6c8c9",
   "metadata": {},
   "outputs": [
    {
     "ename": "",
     "evalue": "",
     "output_type": "error",
     "traceback": [
      "\u001b[1;31mRunning cells with 'c:\\msys64\\ucrt64\\bin\\python.exe' requires the ipykernel package.\n",
      "\u001b[1;31mRun the following command to install 'ipykernel' into the Python environment. \n",
      "\u001b[1;31mCommand: 'c:/msys64/ucrt64/bin/python.exe -m pip install ipykernel -U --user --force-reinstall'"
     ]
    }
   ],
   "source": [
    "from PIL import Image\n",
    "import numpy as np\n",
    "import matplotlib.pyplot as plt\n",
    "\n",
    "def round_gradient_direction(direction):\n",
    "    # Làm tròn hướng về các giá trị có sẵn (0, 45, 90, 135 độ)\n",
    "    rounded_direction = np.zeros_like(direction, dtype=np.uint8)\n",
    "    \n",
    "    rounded_direction[(direction >= -22.5) & (direction < 22.5)] = 0\n",
    "    rounded_direction[(direction >= 22.5) & (direction < 67.5)] = 45\n",
    "    rounded_direction[(direction >= 67.5) & (direction < 112.5)] = 90\n",
    "    rounded_direction[(direction >= 112.5) & (direction < 157.5)] = 135\n",
    "    \n",
    "    return rounded_direction\n",
    "\n",
    "img = Image.open(\"Musiala.jpg\")\n",
    "img = img.convert(\"L\")\n",
    "img = np.array(img)\n",
    "img = img.astype(np.float64)\n",
    "\n",
    "np.savetxt('my_array.txt', img)\n",
    "img_final = np.zeros((len(img),len(img[0])))\n",
    "gx = np.zeros((len(img),len(img[0])))\n",
    "gy = np.zeros((len(img),len(img[0])))\n",
    "for i in range(1, len(img)-1): # Height\n",
    "    for j in range(1, len(img[0]) - 1): # Width\n",
    "        gx[i][j] = (img[i - 1][j - 1] + 2*img[i][j - 1] + img[i + 1][j - 1]) - (img[i - 1][j + 1] + 2*img[i][j + 1] + img[i +\n",
    "1][j + 1])\n",
    "        gy[i][j] = (img[i - 1][j - 1] + 2*img[i - 1][j] + img[i - 1][j + 1]) - (img[i + 1][j - 1] + 2*img[i + 1][j] + img[i +\n",
    "1][j + 1])\n",
    "        img_final[i][j] = min(255, np.sqrt(gx[i][j]**2 + gy[i][j]**2))\n",
    "\n",
    "np.savetxt('my_array.txt', img_final)\n",
    "plt.figure(figsize=(12, 8))\n",
    "plt.subplot(221)\n",
    "plt.imshow(img, cmap='gray')\n",
    "plt.title(\"Original\")\n",
    "plt.subplot(222)\n",
    "plt.imshow(gx, cmap='gray')\n",
    "plt.title(\"Vertical Sobel\")\n",
    "plt.subplot(223)\n",
    "plt.imshow(gy, cmap='gray')\n",
    "plt.title(\"Horizontal Sobel\")\n",
    "plt.subplot(224)\n",
    "plt.imshow(img_final, cmap='gray')\n",
    "plt.title(\"Sobel\")"
   ]
  }
 ],
 "metadata": {
  "kernelspec": {
   "display_name": "Python 3 (ipykernel)",
   "language": "python",
   "name": "python3"
  },
  "language_info": {
   "codemirror_mode": {
    "name": "ipython",
    "version": 3
   },
   "file_extension": ".py",
   "mimetype": "text/x-python",
   "name": "python",
   "nbconvert_exporter": "python",
   "pygments_lexer": "ipython3",
   "version": "3.10.11"
  }
 },
 "nbformat": 4,
 "nbformat_minor": 5
}
